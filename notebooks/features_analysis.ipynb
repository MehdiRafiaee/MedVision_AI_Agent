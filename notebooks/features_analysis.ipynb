"""
# Feature Analysis for Medical Images

## Analysis of handcrafted features for medical image classification
"""

import numpy as np
import pandas as pd
import matplotlib.pyplot as plt
import seaborn as sns
from sklearn.manifold import TSNE
from sklearn.decomposition import PCA
import sys

sys.path.append('../src')
from features.texture_features import TextureFeatureExtractor
from features.shape_features import ShapeFeatureExtractor
from features.frequency_features import FrequencyFeatureExtractor
from features.feature_fusion import FeatureFusion

def extract_features_batch(image_paths, labels):
    """Extract features for a batch of images"""
    texture_extractor = TextureFeatureExtractor()
    shape_extractor = ShapeFeatureExtractor()
    frequency_extractor = FrequencyFeatureExtractor()
    
    features_list = []
    valid_labels = []
    
    for i, (img_path, label) in enumerate(zip(image_paths, labels)):
        try:
            # Load and preprocess image
            image = cv2.imread(str(img_path))
            if image is None:
                continue
                
            # Extract features from different modalities
            texture_features = texture_extractor.calculate_glcm_features(image)
            lbp_features = texture_extractor.calculate_lbp_features(image)
            shape_features = shape_extractor.calculate_hu_moments(image)
            contour_features = shape_extractor.calculate_contour_features(image)
            wavelet_features = frequency_extractor.calculate_wavelet_features(image)
            fourier_features = frequency_extractor.calculate_fourier_features(image)
            
            # Combine all features
            combined_features = (
                list(texture_features.values()) + 
                lbp_features + 
                shape_features + 
                contour_features +
                wavelet_features +
                fourier_features
            )
            
            features_list.append(combined_features)
            valid_labels.append(label)
            
        except Exception as e:
            print(f"Error processing {img_path}: {e}")
            continue
    
    return np.array(features_list), np.array(valid_labels)

def analyze_feature_importance(features, labels):
    """Analyze feature importance using Random Forest"""
    from sklearn.ensemble import RandomForestClassifier
    from sklearn.feature_selection import SelectKBest, f_classif
    
    # Feature selection
    selector = SelectKBest(score_func=f_classif, k=50)
    selected_features = selector.fit_transform(features, labels)
    
    # Train Random Forest for importance
    rf = RandomForestClassifier(n_estimators=100, random_state=42)
    rf.fit(selected_features, labels)
    
    return rf.feature_importances_, selector.scores_

def visualize_feature_space(features, labels):
    """Visualize feature space using dimensionality reduction"""
    # PCA Visualization
    pca = PCA(n_components=2)
    features_pca = pca.fit_transform(features)
    
    # t-SNE Visualization
    tsne = TSNE(n_components=2, random_state=42)
    features_tsne = tsne.fit_transform(features)
    
    fig, (ax1, ax2) = plt.subplots(1, 2, figsize=(15, 6))
    
    # PCA plot
    scatter1 = ax1.scatter(features_pca[:, 0], features_pca[:, 1], c=labels, cmap='viridis')
    ax1.set_title('PCA - Feature Space')
    ax1.set_xlabel('Principal Component 1')
    ax1.set_ylabel('Principal Component 2')
    plt.colorbar(scatter1, ax=ax1)
    
    # t-SNE plot
    scatter2 = ax2.scatter(features_tsne[:, 0], features_tsne[:, 1], c=labels, cmap='viridis')
    ax2.set_title('t-SNE - Feature Space')
    ax2.set_xlabel('t-SNE Component 1')
    ax2.set_ylabel('t-SNE Component 2')
    plt.colorbar(scatter2, ax=ax2)
    
    plt.tight_layout()
    plt.show()
    
    return pca, tsne

# Main analysis
if __name__ == "__main__":
    # Load sample data (replace with actual dataset)
    sample_images = []  # List of image paths
    sample_labels = []  # List of corresponding labels
    
    features, labels = extract_features_batch(sample_images, sample_labels)
    print(f"Extracted features shape: {features.shape}")
    
    # Feature importance analysis
    importances, scores = analyze_feature_importance(features, labels)
    
    # Visualization
    pca, tsne = visualize_feature_space(features, labels)
    
    print(f"PCA explained variance: {pca.explained_variance_ratio_}")
    print(f"Total variance explained: {sum(pca.explained_variance_ratio_):.3f}")
