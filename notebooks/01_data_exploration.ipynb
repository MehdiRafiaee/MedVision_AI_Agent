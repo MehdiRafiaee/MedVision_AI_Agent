# This is a template - actual notebook would be .ipynb file

"""
# Medical Image Data Exploration

## 1. Introduction
Exploratory data analysis for medical image dataset
"""

import numpy as np
import pandas as pd
import matplotlib.pyplot as plt
import seaborn as sns
import cv2
from pathlib import Path
import sys

sys.path.append('../src')
from preprocessor.image_loader import MedicalImageLoader
from preprocessor.enhancement import MedicalImageEnhancer

# Configuration
DATA_PATH = "../data/raw"
CLASSES = ["normal", "abnormal"]

def load_dataset_info(data_path):
    """Load dataset information and statistics"""
    dataset_info = {}
    
    for class_name in CLASSES:
        class_path = Path(data_path) / class_name
        if class_path.exists():
            images = list(class_path.glob("*.jpg")) + list(class_path.glob("*.png"))
            dataset_info[class_name] = {
                'count': len(images),
                'sample_images': images[:5]  # First 5 images
            }
    
    return dataset_info

def analyze_image_properties(images):
    """Analyze basic image properties"""
    properties = []
    
    for img_path in images:
        image = cv2.imread(str(img_path))
        if image is not None:
            properties.append({
                'path': img_path,
                'shape': image.shape,
                'mean_intensity': np.mean(image),
                'std_intensity': np.std(image),
                'min_intensity': np.min(image),
                'max_intensity': np.max(image)
            })
    
    return pd.DataFrame(properties)

def visualize_sample_images(dataset_info):
    """Visualize sample images from each class"""
    fig, axes = plt.subplots(2, 5, figsize=(20, 8))
    
    for i, (class_name, info) in enumerate(dataset_info.items()):
        for j, img_path in enumerate(info['sample_images']):
            if j < 5:  # Show max 5 images per class
                image = cv2.imread(str(img_path))
                image = cv2.cvtColor(image, cv2.COLOR_BGR2RGB)
                
                axes[i, j].imshow(image)
                axes[i, j].set_title(f"{class_name}\n{image.shape}")
                axes[i, j].axis('off')
    
    plt.tight_layout()
    plt.show()

# Main execution
if __name__ == "__main__":
    dataset_info = load_dataset_info(DATA_PATH)
    print("Dataset Information:")
    for class_name, info in dataset_info.items():
        print(f"{class_name}: {info['count']} images")
    
    # Analyze image properties
    all_images = []
    for info in dataset_info.values():
        all_images.extend(info['sample_images'])
    
    properties_df = analyze_image_properties(all_images)
    print("\nImage Properties Summary:")
    print(properties_df.describe())
    
    # Visualization
    visualize_sample_images(dataset_info)
